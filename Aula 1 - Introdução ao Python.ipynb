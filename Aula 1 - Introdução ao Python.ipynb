{
 "cells": [
  {
   "cell_type": "markdown",
   "metadata": {},
   "source": [
    "# Introdução ao Python"
   ]
  },
  {
   "cell_type": "markdown",
   "metadata": {},
   "source": [
    "### Identificadores, variáveis e operadores"
   ]
  },
  {
   "cell_type": "code",
   "execution_count": 24,
   "metadata": {},
   "outputs": [],
   "source": [
    "wordCount = 3\n",
    "y_axis = 10\n",
    "errorField2 = \"Error\"\n",
    "_logFile = \"/Downloads/vinicius.txt\"\n",
    "\n"
   ]
  },
  {
   "cell_type": "markdown",
   "metadata": {},
   "source": [
    "### Palavras reservadas"
   ]
  },
  {
   "cell_type": "code",
   "execution_count": 23,
   "metadata": {},
   "outputs": [
    {
     "data": {
      "text/plain": [
       "['False',\n",
       " 'None',\n",
       " 'True',\n",
       " 'and',\n",
       " 'as',\n",
       " 'assert',\n",
       " 'async',\n",
       " 'await',\n",
       " 'break',\n",
       " 'class',\n",
       " 'continue',\n",
       " 'def',\n",
       " 'del',\n",
       " 'elif',\n",
       " 'else',\n",
       " 'except',\n",
       " 'finally',\n",
       " 'for',\n",
       " 'from',\n",
       " 'global',\n",
       " 'if',\n",
       " 'import',\n",
       " 'in',\n",
       " 'is',\n",
       " 'lambda',\n",
       " 'nonlocal',\n",
       " 'not',\n",
       " 'or',\n",
       " 'pass',\n",
       " 'raise',\n",
       " 'return',\n",
       " 'try',\n",
       " 'while',\n",
       " 'with',\n",
       " 'yield']"
      ]
     },
     "execution_count": 23,
     "metadata": {},
     "output_type": "execute_result"
    }
   ],
   "source": [
    "import keyword\n",
    "\n",
    "keyword.kwlist\n"
   ]
  },
  {
   "cell_type": "markdown",
   "metadata": {},
   "source": [
    "### Tipos numéricos (integer, long integer, floating point number, and imaginary number)."
   ]
  },
  {
   "cell_type": "code",
   "execution_count": 93,
   "metadata": {},
   "outputs": [
    {
     "data": {
      "text/plain": [
       "False"
      ]
     },
     "execution_count": 93,
     "metadata": {},
     "output_type": "execute_result"
    }
   ],
   "source": [
    "not i and True"
   ]
  },
  {
   "cell_type": "markdown",
   "metadata": {},
   "source": [
    "\n",
    "### Manipulando tipos numéricos"
   ]
  },
  {
   "cell_type": "code",
   "execution_count": 99,
   "metadata": {},
   "outputs": [
    {
     "data": {
      "text/plain": [
       "4.0"
      ]
     },
     "execution_count": 99,
     "metadata": {},
     "output_type": "execute_result"
    }
   ],
   "source": [
    "(4 / 4) * 4 "
   ]
  },
  {
   "cell_type": "markdown",
   "metadata": {},
   "source": [
    "### Usando variáveis"
   ]
  },
  {
   "cell_type": "code",
   "execution_count": 94,
   "metadata": {},
   "outputs": [],
   "source": [
    "n1, n2, n3 = 5.6, 7, 8"
   ]
  },
  {
   "cell_type": "markdown",
   "metadata": {},
   "source": [
    "### Expressões booleanas"
   ]
  },
  {
   "cell_type": "code",
   "execution_count": 105,
   "metadata": {},
   "outputs": [
    {
     "name": "stdout",
     "output_type": "stream",
     "text": [
      "True and True:  True\n",
      "False and True:  False\n",
      "True or True:  True\n",
      "False or False:  False\n",
      "not True:  False\n",
      "not False:  True\n",
      "(i == 2) or (i % 2 != 0 and 0 < i < 9):  False\n"
     ]
    }
   ],
   "source": [
    "print(\"True and True: \", True and True)\n",
    "print(\"False and True: \", False and True)\n",
    "\n",
    "print(\"True or True: \", True or True)\n",
    "print(\"False or False: \", False or False)\n",
    "\n",
    "print(\"not True: \", not True)\n",
    "print(\"not False: \", not False)\n",
    "\n",
    "i = 8\n",
    "\n",
    "print(\"(i == 2) or (i % 2 != 0 and 0 < i < 9): \", (i == 2) or (i % 2 != 0 and 0 < i < 9))\n"
   ]
  },
  {
   "cell_type": "markdown",
   "metadata": {},
   "source": [
    "### Strings"
   ]
  },
  {
   "cell_type": "code",
   "execution_count": 134,
   "metadata": {},
   "outputs": [
    {
     "name": "stdout",
     "output_type": "stream",
     "text": [
      "True\n",
      "16\n",
      "False\n",
      "VINICIUS PEREIRA\n",
      "Vinicius pereira\n"
     ]
    }
   ],
   "source": [
    "nome = \"viNiCius pEReira\"\n",
    "\n",
    "print(nome[0] == 'v')\n",
    "\n",
    "print(len(nome))\n",
    "\n",
    "print(\"Aula\" == \"aula\")\n",
    "\n",
    "print(nome.upper())\n",
    "print(nome.capitalize())"
   ]
  },
  {
   "cell_type": "markdown",
   "metadata": {},
   "source": [
    "### Convertendo tipos numéricos"
   ]
  },
  {
   "cell_type": "code",
   "execution_count": 137,
   "metadata": {},
   "outputs": [
    {
     "name": "stdout",
     "output_type": "stream",
     "text": [
      "<class 'int'>\n",
      "<class 'float'>\n",
      "<class 'int'>\n"
     ]
    }
   ],
   "source": [
    "n1 = 1\n",
    "print(type(n1))\n",
    "print(type(float(n1)))\n",
    "print(type(int(n1)))"
   ]
  },
  {
   "cell_type": "markdown",
   "metadata": {},
   "source": [
    "### Tipos Avançados de dados (Listas, Tuplas, e Dicionários)"
   ]
  },
  {
   "cell_type": "code",
   "execution_count": 144,
   "metadata": {},
   "outputs": [
    {
     "name": "stdout",
     "output_type": "stream",
     "text": [
      "<class 'list'>\n",
      "['Paulo', 'Vinicius', 'Neide', 'Carla']\n"
     ]
    }
   ],
   "source": [
    "nomes = []\n",
    "nomes.append(\"Paulo\")\n",
    "nomes.append(\"Vinicius\")\n",
    "nomes.append(\"Neide\")\n",
    "nomes.append(\"Carla\")\n",
    "\n",
    "print(type(nomes))\n",
    "print(nomes)"
   ]
  },
  {
   "cell_type": "code",
   "execution_count": 153,
   "metadata": {},
   "outputs": [
    {
     "name": "stdout",
     "output_type": "stream",
     "text": [
      "['Paulo', 'Vinicius', 'Neide', 'Carla']\n",
      "['Paulo', 'Vinicius', 'Neide', 'Carla', 'Ilza']\n",
      "['Paulo', 'Vinicius', 'Neide', 'Carla', 'Ney']\n"
     ]
    }
   ],
   "source": [
    "nomes = [\"Paulo\", \"Vinicius\", \"Neide\", \"Carla\"]\n",
    "print(nomes)\n",
    "\n",
    "nomes.append(\"Ilza\")\n",
    "print(nomes)\n",
    "\n",
    "nomes[4] = \"Ney\"\n",
    "print(nomes)"
   ]
  },
  {
   "cell_type": "code",
   "execution_count": 155,
   "metadata": {},
   "outputs": [
    {
     "name": "stdout",
     "output_type": "stream",
     "text": [
      "<class 'tuple'>\n",
      "2\n"
     ]
    },
    {
     "ename": "TypeError",
     "evalue": "'tuple' object does not support item assignment",
     "output_type": "error",
     "traceback": [
      "\u001b[0;31m---------------------------------------------------------------------------\u001b[0m",
      "\u001b[0;31mTypeError\u001b[0m                                 Traceback (most recent call last)",
      "\u001b[0;32m<ipython-input-155-9d6c7fab80e3>\u001b[0m in \u001b[0;36m<module>\u001b[0;34m\u001b[0m\n\u001b[1;32m      4\u001b[0m \u001b[0mprint\u001b[0m\u001b[0;34m(\u001b[0m\u001b[0mlen\u001b[0m\u001b[0;34m(\u001b[0m\u001b[0mtupla\u001b[0m\u001b[0;34m)\u001b[0m\u001b[0;34m)\u001b[0m\u001b[0;34m\u001b[0m\u001b[0;34m\u001b[0m\u001b[0m\n\u001b[1;32m      5\u001b[0m \u001b[0;34m\u001b[0m\u001b[0m\n\u001b[0;32m----> 6\u001b[0;31m \u001b[0mtupla\u001b[0m\u001b[0;34m[\u001b[0m\u001b[0;36m1\u001b[0m\u001b[0;34m]\u001b[0m \u001b[0;34m=\u001b[0m \u001b[0;34m\"Vinicius\"\u001b[0m\u001b[0;34m\u001b[0m\u001b[0;34m\u001b[0m\u001b[0m\n\u001b[0m",
      "\u001b[0;31mTypeError\u001b[0m: 'tuple' object does not support item assignment"
     ]
    }
   ],
   "source": [
    "tupla = (\"Paulo\", \"Junior\")\n",
    "print(type(tupla))\n",
    "\n",
    "print(len(tupla))\n",
    "\n",
    "tupla[1] = \"Vinicius\""
   ]
  },
  {
   "cell_type": "code",
   "execution_count": 164,
   "metadata": {},
   "outputs": [
    {
     "name": "stdout",
     "output_type": "stream",
     "text": [
      "<class 'dict'>\n"
     ]
    },
    {
     "data": {
      "text/plain": [
       "'Osfaya'"
      ]
     },
     "execution_count": 164,
     "metadata": {},
     "output_type": "execute_result"
    }
   ],
   "source": [
    "capitais = {\"Goias\" : \"goiania\", \"Pernambuco\": \"Recife\", \"Entorno\" : {\"Vinicius\" : \"Frankol\", \"Paulo\": \"Osfaya\"}}\n",
    "\n",
    "print(type(capitais))\n",
    "\n",
    "capitais['Entorno']['Paulo']"
   ]
  },
  {
   "cell_type": "markdown",
   "metadata": {},
   "source": [
    "### List comprehensions"
   ]
  },
  {
   "cell_type": "code",
   "execution_count": 190,
   "metadata": {},
   "outputs": [
    {
     "name": "stdout",
     "output_type": "stream",
     "text": [
      "[0, 1, 2, 3, 4, 5, 6, 7, 8, 9, 10, 11, 12, 13, 14, 15, 16, 17, 18, 19, 20, 21, 22, 23, 24, 25, 26, 27, 28, 29, 30, 31, 32, 33, 34, 35, 36, 37, 38, 39, 40, 41, 42, 43, 44, 45, 46, 47, 48, 49]\n"
     ]
    }
   ],
   "source": [
    "lista_de_inteiros = [i for i in range(0,50)]\n",
    "print(lista_de_inteiros)"
   ]
  },
  {
   "cell_type": "code",
   "execution_count": 176,
   "metadata": {},
   "outputs": [
    {
     "name": "stdout",
     "output_type": "stream",
     "text": [
      "[0, 1, 4, 9, 16, 25, 36, 49, 64, 81, 100, 121, 144, 169, 196, 225, 256, 289, 324, 361, 400, 441, 484, 529, 576, 625, 676, 729, 784, 841, 900, 961, 1024, 1089, 1156, 1225, 1296, 1369, 1444, 1521, 1600, 1681, 1764, 1849, 1936, 2025, 2116, 2209, 2304, 2401]\n"
     ]
    }
   ],
   "source": [
    "lista_de_potencia = [i**2 for i in lista_de_inteiros]\n",
    "print(lista_de_potencia)"
   ]
  },
  {
   "cell_type": "code",
   "execution_count": 182,
   "metadata": {},
   "outputs": [
    {
     "name": "stdout",
     "output_type": "stream",
     "text": [
      "['Carla']\n"
     ]
    }
   ],
   "source": [
    "nomes_com_c = [i for i in nomes if i[0] == \"C\"]\n",
    "print(nomes_com_c)"
   ]
  },
  {
   "cell_type": "markdown",
   "metadata": {},
   "source": [
    "### Entendendo Referências"
   ]
  },
  {
   "cell_type": "code",
   "execution_count": 194,
   "metadata": {},
   "outputs": [
    {
     "data": {
      "text/plain": [
       "140685282926256"
      ]
     },
     "execution_count": 194,
     "metadata": {},
     "output_type": "execute_result"
    }
   ],
   "source": [
    "id(nomes_com_c)"
   ]
  },
  {
   "cell_type": "markdown",
   "metadata": {},
   "source": [
    "### Copiando objetos complexos (Shallow e Deep copies)"
   ]
  },
  {
   "cell_type": "code",
   "execution_count": 200,
   "metadata": {},
   "outputs": [
    {
     "name": "stdout",
     "output_type": "stream",
     "text": [
      "['Carla', 'Vinicius', 'Vinicius', 'Vinicius']\n",
      "['Carla', 'Vinicius', 'Vinicius', 'Vinicius']\n",
      "140685282615200\n"
     ]
    }
   ],
   "source": [
    "aux = nomes_com_c\n",
    "aux.append(\"Vinicius\")\n",
    "print(nomes_com_c)\n",
    "\n",
    "aux2 = nomes_com_c.copy()\n",
    "aux2.append(\"Paulo\")\n",
    "print(nomes_com_c)\n",
    "print(id(aux2))"
   ]
  },
  {
   "cell_type": "markdown",
   "metadata": {},
   "source": [
    "### Controle de Fluxo (if/elif/else, for, while)"
   ]
  },
  {
   "cell_type": "code",
   "execution_count": 201,
   "metadata": {},
   "outputs": [
    {
     "name": "stdout",
     "output_type": "stream",
     "text": [
      "Entrou no if\n"
     ]
    }
   ],
   "source": [
    "if len(nomes_com_c) > 2:\n",
    "    print(\"Entrou no if\")\n",
    "elif 1 < len(nomes_com_c) < 2:\n",
    "    print(\"Entrou no elif\")\n",
    "else:\n",
    "    print(\"Entrou no else\")"
   ]
  },
  {
   "cell_type": "code",
   "execution_count": 205,
   "metadata": {},
   "outputs": [
    {
     "name": "stdout",
     "output_type": "stream",
     "text": [
      "Paulo\n",
      "Vinicius\n",
      "Neide\n",
      "Carla\n",
      "Ney\n"
     ]
    }
   ],
   "source": [
    "for x in nomes:\n",
    "    print(x)\n",
    "    "
   ]
  },
  {
   "cell_type": "code",
   "execution_count": 217,
   "metadata": {},
   "outputs": [
    {
     "name": "stdout",
     "output_type": "stream",
     "text": [
      "0\n"
     ]
    }
   ],
   "source": [
    "i = 0\n",
    "\n",
    "while i < 10:\n",
    "    if i % 2 == 0:\n",
    "        print(i)\n",
    "    else:\n",
    "        pass\n",
    "    i += 1"
   ]
  },
  {
   "cell_type": "markdown",
   "metadata": {},
   "source": [
    "### Inputs do teclado"
   ]
  },
  {
   "cell_type": "code",
   "execution_count": 219,
   "metadata": {},
   "outputs": [
    {
     "name": "stdout",
     "output_type": "stream",
     "text": [
      "Entre com sua idade:15\n",
      "Vc é moleque\n",
      "Entre com sua idade:10\n",
      "Entre com sua idade:18\n",
      "Entre com sua idade:16\n",
      "Vc é moleque\n",
      "Entre com sua idade:30\n",
      "Entre com sua idade:32\n",
      "Vc é velho\n"
     ]
    }
   ],
   "source": [
    "while True:\n",
    "    idade = int(input(\"Entre com sua idade:\"))\n",
    "    \n",
    "    if idade > 13 and idade < 18:\n",
    "        print(\"Vc é moleque\")\n",
    "    elif idade > 30:\n",
    "        print(\"Vc é velho\")\n",
    "        break\n",
    "    else: \n",
    "        pass"
   ]
  },
  {
   "cell_type": "markdown",
   "metadata": {},
   "source": [
    "### Números aleatórios (import random)"
   ]
  },
  {
   "cell_type": "code",
   "execution_count": 223,
   "metadata": {},
   "outputs": [
    {
     "name": "stdout",
     "output_type": "stream",
     "text": [
      "1\n"
     ]
    }
   ],
   "source": [
    "import random"
   ]
  },
  {
   "cell_type": "code",
   "execution_count": 246,
   "metadata": {},
   "outputs": [
    {
     "name": "stdout",
     "output_type": "stream",
     "text": [
      "Numero menor que 10:  10\n"
     ]
    }
   ],
   "source": [
    "aleatorio = random.randint(0,15)\n",
    "\n",
    "if aleatorio > 10:\n",
    "    print(\"Numero maior que 10: \", aleatorio)\n",
    "else:\n",
    "    print(\"Numero menor que 10: \", aleatorio)"
   ]
  },
  {
   "cell_type": "markdown",
   "metadata": {},
   "source": [
    "### Criando métodos"
   ]
  },
  {
   "cell_type": "code",
   "execution_count": 249,
   "metadata": {},
   "outputs": [],
   "source": [
    "def verificaAleatorio(n1, n2):\n",
    "    aux = random.randint(n1,n2)\n",
    "    if aux > 10:\n",
    "        return aux\n",
    "    else:\n",
    "        return 0"
   ]
  },
  {
   "cell_type": "code",
   "execution_count": 250,
   "metadata": {},
   "outputs": [
    {
     "name": "stdout",
     "output_type": "stream",
     "text": [
      "23\n"
     ]
    }
   ],
   "source": [
    "numero = verificaAleatorio(0,50)\n",
    "\n",
    "print(numero)"
   ]
  },
  {
   "cell_type": "markdown",
   "metadata": {},
   "source": [
    "### Plotando gráficos com matplotlib.pyplot"
   ]
  },
  {
   "cell_type": "code",
   "execution_count": 251,
   "metadata": {},
   "outputs": [],
   "source": [
    "import matplotlib.pyplot as plt"
   ]
  },
  {
   "cell_type": "code",
   "execution_count": 257,
   "metadata": {},
   "outputs": [
    {
     "data": {
      "text/plain": [
       "[<matplotlib.lines.Line2D at 0x7ff3afe6cc50>]"
      ]
     },
     "execution_count": 257,
     "metadata": {},
     "output_type": "execute_result"
    },
    {
     "data": {
      "image/png": "[encoded data removed]",
      "text/plain": [
       "<Figure size 432x288 with 1 Axes>"
      ]
     },
     "metadata": {
      "needs_background": "light"
     },
     "output_type": "display_data"
    }
   ],
   "source": [
    "x = [1,1,2,3,5,8,13,21]\n",
    "plt.plot(x)"
   ]
  },
  {
   "cell_type": "markdown",
   "metadata": {},
   "source": [
    "# Exercícios"
   ]
  },
  {
   "cell_type": "markdown",
   "metadata": {},
   "source": [
    "## 1- Jogo do número mágico\n",
    "#### O computador irá gerar um número aleatório inteiro entre 1 e 100.\n",
    "\n",
    "#### O jogador deverá adivinhar qual o número que o computador gerou no menor número de tentativas.\n",
    "\n",
    "#### Será solicitado ao jogador que entre com um número a cada iteração.\n",
    "\n",
    "#### Se o número fornecido pelo jogador for maior que o número pensado pelo computador, o jogador receberá a mensagem: “tente um número menor”\n",
    "\n",
    "#### Se o número fornecido pelo jogador for menor que o numero pensado pelo computador, o jogador receberá a mensagem: “tente um numero maior”\n",
    "\n",
    "#### Se o usuário acertar o numero o número, deverá ser exibida a mensagem: “você acertou o numero em x tentativas”.\n",
    "\n",
    "Obs: Não há limite de tentativas do usuário, então use o comando while para loop infinito. Quando o usuário acertar o número, o loop infinito é quebrado e o programa termina."
   ]
  },
  {
   "cell_type": "code",
   "execution_count": null,
   "metadata": {},
   "outputs": [],
   "source": []
  },
  {
   "cell_type": "markdown",
   "metadata": {},
   "source": [
    "## 2- Imprimir número ímpares\n",
    "#### Escreva uma aplicação de exiba todos os números ímpares entre 100 e 120 (use o comando for)."
   ]
  },
  {
   "cell_type": "code",
   "execution_count": null,
   "metadata": {},
   "outputs": [],
   "source": []
  },
  {
   "cell_type": "markdown",
   "metadata": {},
   "source": [
    "## 3- Escreva um método que calcule a serie de Fibonacci:\n",
    "#### Lembrando que a sequência de Fibonacci é: 1,1,2,3,5,8,13,21,...\n",
    "\n",
    "#### Para os números menores que 100, salve em uma lista.\n",
    "\n",
    "#### Quantos número a série possui menores que 100 ?\n",
    "\n",
    "#### Gere o gráfico usando matplotlib.pyplot\n",
    "\n",
    "Obs: Os dois primeiros número da série são 1 e 1. O próximo elemento é calculado pela soma dos dois anteriores. Portanto, o terceiro elemento será 2 (1+1). O quarto elemento será dado por 3 (1+2). O quinto elemento será dado por 5 (2+3)."
   ]
  },
  {
   "cell_type": "code",
   "execution_count": null,
   "metadata": {},
   "outputs": [],
   "source": []
  },
  {
   "cell_type": "markdown",
   "metadata": {},
   "source": [
    "# OBS: Ao terminar os exercícios, criar repositório no github com o nome aprendendo_python e upar esse arquivo e os próximos que virão."
   ]
  }
 ],
 "metadata": {
  "kernelspec": {
   "display_name": "Python 3",
   "language": "python",
   "name": "python3"
  },
  "language_info": {
   "codemirror_mode": {
    "name": "ipython",
    "version": 3
   },
   "file_extension": ".py",
   "mimetype": "text/x-python",
   "name": "python",
   "nbconvert_exporter": "python",
   "pygments_lexer": "ipython3",
   "version": "3.7.6"
  }
 },
 "nbformat": 4,
 "nbformat_minor": 4
}
